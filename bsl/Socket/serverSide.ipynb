{
 "cells": [
  {
   "cell_type": "code",
   "execution_count": 2,
   "metadata": {
    "collapsed": false
   },
   "outputs": [
    {
     "name": "stdout",
     "output_type": "stream",
     "text": [
      "Connected by ('192.168.50.10', 53952)\n"
     ]
    }
   ],
   "source": [
    "import socket\n",
    " \n",
    "HOST='' #호스트를 지정하지 않으면 가능한 모든 인터페이스를 의미한다.\n",
    "PORT=50007 #포트지정\n",
    "s=socket.socket(socket.AF_INET,socket.SOCK_STREAM)\n",
    "s.bind((HOST,PORT))\n",
    "s.listen(1) #접속이 있을때까지 기다림\n",
    "conn, addr=s.accept() #접속 승인\n",
    "print('Connected by',addr)\n",
    "while True:\n",
    "    data=conn.recv(1024)\n",
    "    if not data: break\n",
    "    conn.send(data) #받은 데이터를 그대로 클라이언트에 전송\n",
    "conn.close()"
   ]
  },
  {
   "cell_type": "code",
   "execution_count": null,
   "metadata": {
    "collapsed": true
   },
   "outputs": [],
   "source": []
  }
 ],
 "metadata": {
  "kernelspec": {
   "display_name": "Python 3",
   "language": "python",
   "name": "python3"
  },
  "language_info": {
   "codemirror_mode": {
    "name": "ipython",
    "version": 3
   },
   "file_extension": ".py",
   "mimetype": "text/x-python",
   "name": "python",
   "nbconvert_exporter": "python",
   "pygments_lexer": "ipython3",
   "version": "3.6.0"
  }
 },
 "nbformat": 4,
 "nbformat_minor": 2
}
