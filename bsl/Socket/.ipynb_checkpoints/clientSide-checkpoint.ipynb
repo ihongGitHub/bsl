{
 "cells": [
  {
   "cell_type": "code",
   "execution_count": 2,
   "metadata": {
    "collapsed": false
   },
   "outputs": [
    {
     "name": "stdout",
     "output_type": "stream",
     "text": [
      "Received b'Hello, python'\n"
     ]
    }
   ],
   "source": [
    "import socket\n",
    " \n",
    "HOST='192.168.50.10' #localhost\n",
    "# HOST='127.0.0.1' #localhost\n",
    "# HOST='13.124.27.65' #localhost\n",
    "PORT=50007 #서버와 같은 포트사용\n",
    "s=socket.socket(socket.AF_INET, socket.SOCK_STREAM) #소켓생성\n",
    "s.connect((HOST,PORT))\n",
    "s.send(b'Hello, python') #문자를 보냄\n",
    "data=s.recv(1024) #서버로 부터 정보를 받음\n",
    "s.close()\n",
    "print('Received',repr(data))"
   ]
  },
  {
   "cell_type": "code",
   "execution_count": null,
   "metadata": {
    "collapsed": true
   },
   "outputs": [],
   "source": [
    "192.168.50.11"
   ]
  }
 ],
 "metadata": {
  "kernelspec": {
   "display_name": "Python 3",
   "language": "python",
   "name": "python3"
  },
  "language_info": {
   "codemirror_mode": {
    "name": "ipython",
    "version": 3
   },
   "file_extension": ".py",
   "mimetype": "text/x-python",
   "name": "python",
   "nbconvert_exporter": "python",
   "pygments_lexer": "ipython3",
   "version": "3.6.0"
  }
 },
 "nbformat": 4,
 "nbformat_minor": 2
}
